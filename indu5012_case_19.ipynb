{
 "cells": [
  {
   "cell_type": "markdown",
   "source": "# Case 19 - Support Vector Machines",
   "metadata": {
    "cell_id": "f5a7f54b44f24abfb48585671ff8a218",
    "tags": [],
    "deepnote_cell_type": "markdown",
    "deepnote_cell_height": 82
   }
  },
  {
   "cell_type": "markdown",
   "source": "## Business Problem",
   "metadata": {
    "cell_id": "e8aa4bf4fcd34bc19d6ce51431c98e52",
    "tags": [],
    "deepnote_cell_type": "markdown",
    "deepnote_cell_height": 70
   }
  },
  {
   "cell_type": "markdown",
   "source": "You are an analyst at a Colombian EPS. This company has identified a lot of problems arising from people developing heart deseases. So, the company has decided to build a model capable of classifying the risk that a patient has of developing these deseases.",
   "metadata": {
    "cell_id": "4d910eaccca74c13b8775d22e9632974",
    "tags": [],
    "deepnote_cell_type": "markdown",
    "deepnote_cell_height": 97.171875
   }
  },
  {
   "cell_type": "markdown",
   "source": "## Introduction\n\nSupport vector machines are an application of the maximum margin classifier for non-linear classification boundaries. In this module, we will talk about what the maximal margin classifier is and how support vector machines apply this concept.",
   "metadata": {
    "cell_id": "a0d9d2c85f3641ec9b398d38bdd14db4",
    "tags": [],
    "deepnote_cell_type": "markdown",
    "deepnote_cell_height": 130.78125
   }
  },
  {
   "cell_type": "markdown",
   "source": "## Maximal margin classifier\n\nFor a $m$-dimensional space, a hyperplane is a flat subspace of dimension $m-1$. For example, for a two-dimensional space, a hyperplane would be a flat one-dimensional space (a line). In a three-dimensional space, a hyperplane would be a flat two-dimensional space (a plane). For a $p$-dimensional space, a hyperplane can be mathematically defined by the equation: <center>$\\beta_0 +\\beta_1X_1 + \\beta_2X_2 + ... + \\beta_pX_p =0$ </center> \n\nEvery point $X=(X_1,X_2,...,X_p)$ that satisfies that equation lies in the hyperplane. Now, there are an infinite number of points that do not satisfy that equation. One way that a point can not satisfy the equation is if: <center>$\\beta_0 +\\beta_1X_1 + \\beta_2X_2 + ... + \\beta_pX_p > 0$ </center>  \n\nwhich means that $X$ is on one side of the hyperplane. However, $X$ can be on the other side of the hyperplane if: <center>$\\beta_0 +\\beta_1X_1 + \\beta_2X_2 + ... + \\beta_pX_p < 0$ </center>\n\nwhich means that a hyperplane can separate a $m$-dimensional space into two parts. Using this concept, it is natural to think about hyperplanes that can help to separate observations that are from two different classes. However, there can be multiple hyperplanes that are able to perfectly separate observations that come from two different classes, as it can be seen in the following figure:\n\n<figure>\n<img src=\"/work/indu5012_case_19/fig/Hyperplane_Separation.PNG\" align=\"center\"/> \n<figcaption align = \"center\"><b>Fig. 19.1 - Multiple hyperplanes that separate observations that come from two different classes </b>.<i>Taken from (James, G., Witten, D., Hastie, T., & Tibshirani, R. (2013))</i></figcaption>\n</figure>\n\nIf observations that were from one class had a value of 1 on their output variable ($y_i=1$), and the other ones had a -1 ($y_i=-1$), then all of those hyperplanes that separate the observations from both classes would be ones that satisfy the following inequalities: <center>$\\beta_0 +\\beta_1x_{1i} + \\beta_2x_{2i} < 0 \\  \\text{if} \\  y_i=-1 $ </center> <center>$\\beta_0 +\\beta_1x_{1i} + \\beta_2x_{2i} > 0 \\ \\text{if} \\  y_i=1 $ </center>\n\nAs the chosen hyperplane is the decision boundary that separates observations from different classes, if an observation is far from the hyperplane, then one would be confident about the classification of said observation. However, if the observation is very close to the decision boundary, then the classsification would be made with much less confidence. The minimal distance that there is between an observation and the separating plane is known as the margin. On that account, if there could be multiple separating hyperplanes, the one that is preferred is the one that maximizes the margin, i.e. the **maximal margin classifier**. This maximal margin classifier will be the mid-line between the widest block that one can insert between observations of the two classes. On that account, the creation of the maximal margin classifier will only depend on the arrangement of the observations from different classses that are the closest to each other.\n\n<figure>\n<img src=\"/work/indu5012_case_19/fig/Maximal_margin_classifier.PNG\" align=\"center\"/> \n<figcaption align = \"center\"><b>Fig. 19.2 - Example of a maximal margin classifier </b>.<i>Taken from (James, G., Witten, D., Hastie, T., & Tibshirani, R. (2013))</i></figcaption>\n</figure>\n\nNow, in order to create the maximal margin classifier, the following optimization problem has to be solved: <center>$\\text{Maximize} M$ </center> <center>$\\text{subject to:}$ </center> <center>$\\sum_{j=1}^m{\\beta_j^2}=1$ </center> <center>$y_i(\\beta_0 +\\beta_1x_{1i} + \\beta_2x_{2i} + ... +\\beta_mx_{mi} )>M \\  \\forall i \\in \\{1,2,...,n\\}$ </center>\n\nWhile the first restriction does not affect the definition of the hyperplane, it makes it so the minimal distance (perpendicular distance) between the hyperplane and an observation is given by $y_i(\\beta_0 +\\beta_1x_{1i} + \\beta_2x_{2i} + ... +\\beta_mx_{2m} )$. Hence, the previous optimization problem will look to maximize the margin $M$. The previous problem can be solved efficiently to then obtain the maximal margin classifier.",
   "metadata": {
    "cell_id": "87d641ba18bb48b9830797ddfc1358af",
    "tags": [],
    "deepnote_cell_type": "markdown",
    "deepnote_cell_height": 2734.828125
   }
  },
  {
   "cell_type": "markdown",
   "source": "## Support Vector Classifier\n\nHowever, the previous optimization problem can only be solved if the observations from different classes can be perfectly separated. So, when the observations are not separable, i.e. there is no possible solution for the parameters vector $\\beta$ manages to result in a margin $M>0$. For the case in which observations cannot be separated, a hyperplane that almost separates the two classes will be created by using a soft margin. \n\nBy using a soft margin, which allows some of the observations to be on the wrong side of the margin, the model will not have the objective to perfectly classify all of the observations but to be able to classify confidently most of the observations. The previous feature makes it so the model is much more robust when individual observations are added. To put this into perspective, take a look at how a maximal margin classifier can change when adding only one new observation:\n\n<figure>\n<img src=\"/work/indu5012_case_19/fig/Maximal_margin_classifier_variance.PNG\" align=\"center\"/> \n<figcaption align = \"center\"><b>Fig. 19.3 - Example of how a maximal margin classifier can change when adding a new observation. The panel on the right shows how the classifier from the panel on the left can change when adding a new observation from the blue class</b>.<i>Taken from (James, G., Witten, D., Hastie, T., & Tibshirani, R. (2013))</i></figcaption>\n</figure>\n\nIn order to create the new hyperplane to classify the observations using a soft margin, the following optimization problem is solved: <center>$\\text{Maximize} M$ </center> <center>$\\text{subject to:}$ </center> <center>$\\sum_{j=1}^m{\\beta_j^2}=1$ </center> <center>$y_i(\\beta_0 +\\beta_1x_{1i} + \\beta_2x_{2i} + ... +\\beta_mx_{mi} )>M(1-\\epsilon_i) \\  \\forall i \\in \\{1,2,...,n\\}$ </center> <center>$\\epsilon_i \\geq 0 \\forall i \\in \\{1,2,...,n\\}, \\sum_{i=1}^n \\epsilon_i \\leq C$  </center>\n\nwhere $C$ is a tuning paramter that has to be determined by the analyst. As in the maximal margin classifier, the optimization problem tries to determine the hyperplane that has a maximal margin $M$. However, this new problem introduces the slack variables $\\epsilon_1,\\epsilon_2,...,\\epsilon_n$. When the slack variable for the $i^{th}$ observation is equal to 0 ($\\epsilon_i=0$), then the observation will be on the correct side of the margin. If $0<\\epsilon_i \\leq 1$, then the $i^{th}$ is on the wrong side of the margin. Additionally, if $1<\\epsilon_i$, then the $i^{th}$ observation is on the wrong side of the hyperplane.\n\nOn that account, the parameter $C$ is a measure of how much the margin can be violated by the $n$ observations in the training set. If $C=0$, then no observation can violate the margin and the maximal margin classifier would be computed. If, $C>0$, then no more than $C$ observations can be on the wrong side of the hyperplane. On that account, when $C$ increases, there will be a higher tolerance for observations to violate the margin, and so the margin will increase.\n\nThe best parameter $C$ is chosen in practice by the cross-validation process, as it is the key parameter that regulates the bias-variance trade-off of a support vector classifier. When C is small, we seek narrow margins that are rarely violated; this results in  a classifier that is highly fit to the data, which may have low bias but high variance. On the other hand, when C is larger, the margin is wider as we allow more violations to it; this amounts to\nfitting the data less hard and obtaining a classifier that is potentially more biased but may have lower variance.\n\nWhen solving the last optimization problem, it turns out that only observations that either lie on the margin or that\nviolate the margin will affect the hyperplane, and hence the classifier obtained. In other words, an observation that lies strictly on the correct side of the margin does not affect the support vector classifier. Changing the position of that observation would not change the classifier at all, provided that its position remains on the correct side of the margin. Observations that lie directly on the margin, or on the wrong side of the margin for their class, are known as **support vectors**. These observations are the ones that do affect the support vector classifier.\n\n\nAs only support vectors affect the classifier, when the tuning parameter C is large, then the margin is wide, many observations violate the margin, and so there are many support vectors. In this case, many observations are involved in determining the hyperplane, which means that the classifier has low variance (since many observations are support vectors) but it has a potentially high bias. In contrast, if C is small, then there will be fewer support vectors and hence the resulting classifier will have low bias, but a high variance.\n\n<figure>\n<img src=\"/work/indu5012_case_19/fig/Support_vector_classifier.PNG\" align=\"center\"/> \n<figcaption align = \"center\"><b>Fig. 19.4 - Example of  support vector classifiers with different values for the parameter C</b>.<i>Taken from (James, G., Witten, D., Hastie, T., & Tibshirani, R. (2013))</i></figcaption>\n</figure>",
   "metadata": {
    "cell_id": "9457a81704f948f49b62934e5ef8ee27",
    "tags": [],
    "deepnote_cell_type": "markdown",
    "deepnote_cell_height": 2463.953125
   }
  },
  {
   "cell_type": "markdown",
   "source": "## Support Vector Machines\n\nEven though the support vector classifier is able to find a hyperplane that separates classes for cases in which observation for both classes are non-separable, this classifier is useless when the decision boundary is non-linear. The following example shows how a support vector classifier is not useful when the decision boundary is non-linear.  \n\n<figure>\n<img src=\"/work/indu5012_case_19/fig/Support_vector_classifier_non-linear.PNG\" align=\"center\"/> \n<figcaption align = \"center\"><b>Fig. 9.5 - Support vector classifier when the decision boundary is non-linear</b>.<i>Taken from (James, G., Witten, D., Hastie, T., & Tibshirani, R. (2013))</i></figcaption>\n</figure>\n\nIn order to address the non-linearity, the input space can be expanded by using quadratic or cubic terms. For intstance, rather than using the $m$ original input variables, one can use the following $3m$ input variables: $X_1,X_1^2,X_1^3,X_2,X_2^2,X_2^3,...,X_m,X_m^2,X_m^3$. With this enlarged input space, the optimization problem to find the separating hyperplane can be expressed as: <center>$\\text{Maximize} M$ </center> <center>$\\text{subject to:}$ </center> <center>$\\sum_{j=1}^m\\sum_{k=1}^3{\\beta_{jk}^2}=1$ </center> <center>$y_i(\\beta_0 +\\sum_{j=1}^m\\beta_{j1}x_{ji} +\\sum_{j=1}^m\\beta_{j2}x_{ji}^2 +\\sum_{j=1}^m\\beta_{j3}x_{ji}^3 )>M(1-\\epsilon_i) \\  \\forall i \\in \\{1,2,...,n\\}$ </center> <center>$\\epsilon_i \\geq 0 \\forall i \\in \\{1,2,...,n\\}, \\sum_{i=1}^n \\epsilon_i \\leq C$  </center>\n\nThis will result in a non-linear hyperplane of the form $f(x)=0$. Another way in which one might want to expand the input space might be with the interaction between two input variables $X_iX_j$, $i \\neq j$. As there are many ways to expand the input space non-linearly, this process might lead to inefficient computations. However, the support vector machine allows us to enlarge the input space by making efficient computations.\n\nIn order to make the computation of the hyperplane on the expanded input space, the inner products of the observations is what is needed. The inner product between two observations is defined as: <center> $\\langle x_i\\,,x_{i^*}\\rangle = \\sum_{j=1}^m x_{ij}x_{i^*j}$ </center> \n\nIt can be shown that the support vector classifier can be expressed as: <center> $f(x)=\\beta_0 + \\sum_{i=1}^n \\alpha_i \\langle x\\,,x_{i}\\rangle$ </center> \n\nwhere the parameters $\\alpha_i$, $i=1,...,n$ are fitted for every observation. To estimate the parameters $\\alpha_1,...,\\alpha_n$ and $\\beta_0$ all that is needed are the ${n \\choose 2}$ inner products between all of the observations. However, the parameters $\\alpha_i$ will have a non-zero value only for observations in the support vector of the solution. So if $S$ is the collection of indices of these support points, we can rewrite any solution function as: <center> $\\beta_0 + \\sum_{i\\in S} \\alpha_i \\langle x\\,,x_{i}\\rangle$ </center> \n\nWhich are fewer terms that what was on the previous summation. \n\nNow as the inner products of pairs of observations appear in $f(x)$, let us replace the inner product with a generalization of it of the form: <center>$K(x_i, x_{i^*})$</center>\n\nwhere $K$ is some function that we will refer to as a kernel. A kernel is a kernel function that quantifies the similarity of two observations. For instance, we\ncould simply take <center>$K(x_i, x_{i^*})= \\sum_{j=1}^m x_{ij}x_{i^*j}$</center>\n\nwhich would just give us back the support vector classifier. This kernel is known as a linear kernel because the support vector classifier is linear in the features. The linear kernel essentially quantifies the similarity of a pair of observations using Pearson (standard) correlation. But one could use a different kernel to compute the classifier. For example, one could use the kenrel of the form <center>$K(x_i, x_{i^*})= (1+\\sum_{j=1}^m x_{ij}x_{i^*j})^d$</center>\n\nThis kernel is known as a polynomial kernel of degree $d$. Using this kernel with $d>1$ will lead to a more complex decision boundary than when using the linear kernel. Using this kernel is tantamount to fitting a support vector classifier on a higer-dimensional space involving polynomials of degree $d$ instead of the original feature space. When a support vector classifier is combined with a non-linear kernel, then the classifier is called support vector machine. When having a support vector machine, the non-linear function will be of the form: <center> $f(x)=\\beta_0 + \\sum_{i=1}^n \\alpha_i K(x\\,,x_{i})$ </center> \n\nNow, the polynomial kernel is not the only non-linear kernel available; there is also, for example, the radial kernel, which is written as the form <center>$K(x_i, x_{i^*})= exp(-\\gamma\\sum_{j=1}^m (x_{ij}-x_{i^*j})^2)$</center>\n\nwhere $\\gamma$ is a positive constant. Notice that if an observation $x^*=(x_1^*,x_2^*,...,x_m^*)$ is far from another observation $x_i$ in terms of Euclidean distance, then  $\\sum_{j=1}^m (x_{j}^*-x_{i^*j})^2$ will be large and $x_i$ will have a small effect on $f(x^*)$. Therefore, as the predicted class label for the test observation $x^*$ is based on the sign of $f(x^*)$. In other words, training observations that are far from $x^*$ will play essentially no role in the predicted class label for $x^*$. This means that the radial kernel has a very local behavior, in the sense that only nearby training observations have an effect on the class label of a test observation.\n\nThe results that one can get using the polynomial and radial kernels on the previous example can be seen on the following image:\n\n<figure>\n<img src=\"/work/indu5012_case_19/fig/Polynomial_radial_kernels.PNG\" align=\"center\"/> \n<figcaption align = \"center\"><b>Fig. 9.6 - Support vector machine with a polynomial kernel (on the left) and with a radial kernel (on the right)</b>.<i>Taken from (James, G., Witten, D., Hastie, T., & Tibshirani, R. (2013))</i></figcaption>\n</figure>\n",
   "metadata": {
    "cell_id": "cadbb9f4605444a5a332e69c615c7bac",
    "tags": [],
    "deepnote_cell_type": "markdown",
    "deepnote_cell_height": 2592.796875
   }
  },
  {
   "cell_type": "markdown",
   "source": "### SVM for multi-class classification problems\n\nIn order to extend the svm model to problems in whch there are $K$ classes multiple approaches have been proposed. However, the most commonly used ones have been the one-versus-one approach and the one-versus-all approach. The one-versus one approach consists on fitting $m \\choose 2$ svm models in which only a pair of classes are considered. With these models, an observation is classified as coming from one of the two classes that are being considered. After doing this classification with all of the $m \\choose 2$ models, then the observation will be classified as coming from the class that repeated the most on the classification from all of the models.\n\nThe one-versus-all approach is another procedure for applying SVMs in the case of $K > 2$ classes. We fit $K$ SVMs, each time comparing one of all the $K$ classes to the remaining $K - 1$ classes. Let $β_{0k}, β_{1k},..., β_{mk}$ denote the parameters that result from fitting an SVM comparing the $k^{th}$ class (coded as +1) to the others (coded as −1). Let $x^*$ denote a test observation. We assign the observation to the class for which $β_{0k}+ β_{1k}x_1^*+...+ β_{mk}x_m^*$ is largest, as this amounts to a high level of confidence that the test observation belongs to the $k^{th}$ class rather than to any of the other classes.",
   "metadata": {
    "cell_id": "6017a712796a4265b1baebd8f5c7d61b",
    "tags": [],
    "deepnote_cell_type": "markdown",
    "deepnote_cell_height": 338.296875
   }
  },
  {
   "cell_type": "markdown",
   "source": "### Packages Import",
   "metadata": {
    "cell_id": "143cae9f5a8946f7bcbe294e83288670",
    "tags": [],
    "deepnote_cell_type": "markdown",
    "deepnote_cell_height": 62
   }
  },
  {
   "cell_type": "code",
   "source": "import pandas as pd\nimport numpy as np\nimport seaborn as sns\nimport matplotlib.pyplot as plt\n\n\nfrom sklearn.model_selection import train_test_split\nfrom sklearn.svm import SVC\nfrom sklearn.model_selection import cross_val_score\nfrom sklearn.model_selection import GridSearchCV\nfrom sklearn.metrics import  RocCurveDisplay\n\nfrom sklearn.discriminant_analysis import LinearDiscriminantAnalysis\nfrom sklearn.tree import DecisionTreeClassifier\nfrom sklearn.ensemble import BaggingClassifier,RandomForestClassifier,GradientBoostingClassifier\n",
   "metadata": {
    "cell_id": "d6a7785c083841e1ac61bc0474d7a6ce",
    "tags": [],
    "deepnote_to_be_reexecuted": false,
    "source_hash": "5b2ad77a",
    "execution_start": 1650486570415,
    "execution_millis": 6470,
    "deepnote_cell_type": "code",
    "deepnote_cell_height": 351
   },
   "outputs": [],
   "execution_count": 1
  },
  {
   "cell_type": "markdown",
   "source": "### Data Import\n\nThe information was downloaded from a dataset available [online](https://biolincc.nhlbi.nih.gov/studies/framcohort/).",
   "metadata": {
    "cell_id": "bb0ce2c5b36c4b90b2c75d8b3b4b1ca8",
    "tags": [],
    "deepnote_cell_type": "markdown",
    "deepnote_cell_height": 100.390625
   }
  },
  {
   "cell_type": "code",
   "source": "df_heart_disease = pd.read_csv('/work/indu5012_case_19/data/framingham.csv')\ndf_heart_disease.head(3)",
   "metadata": {
    "cell_id": "0672e0dd7f384158adaa58bafc96dbff",
    "tags": [],
    "deepnote_to_be_reexecuted": false,
    "source_hash": "7bc3d5be",
    "execution_start": 1650486576915,
    "execution_millis": 321,
    "deepnote_cell_type": "code",
    "deepnote_cell_height": 348
   },
   "outputs": [
    {
     "output_type": "execute_result",
     "execution_count": 2,
     "data": {
      "application/vnd.deepnote.dataframe.v3+json": {
       "column_count": 16,
       "row_count": 3,
       "columns": [
        {
         "name": "male",
         "dtype": "int64",
         "stats": {
          "unique_count": 2,
          "nan_count": 0,
          "min": "0",
          "max": "1",
          "histogram": [
           {
            "bin_start": 0,
            "bin_end": 0.1,
            "count": 1
           },
           {
            "bin_start": 0.1,
            "bin_end": 0.2,
            "count": 0
           },
           {
            "bin_start": 0.2,
            "bin_end": 0.30000000000000004,
            "count": 0
           },
           {
            "bin_start": 0.30000000000000004,
            "bin_end": 0.4,
            "count": 0
           },
           {
            "bin_start": 0.4,
            "bin_end": 0.5,
            "count": 0
           },
           {
            "bin_start": 0.5,
            "bin_end": 0.6000000000000001,
            "count": 0
           },
           {
            "bin_start": 0.6000000000000001,
            "bin_end": 0.7000000000000001,
            "count": 0
           },
           {
            "bin_start": 0.7000000000000001,
            "bin_end": 0.8,
            "count": 0
           },
           {
            "bin_start": 0.8,
            "bin_end": 0.9,
            "count": 0
           },
           {
            "bin_start": 0.9,
            "bin_end": 1,
            "count": 2
           }
          ]
         }
        },
        {
         "name": "age",
         "dtype": "int64",
         "stats": {
          "unique_count": 3,
          "nan_count": 0,
          "min": "39",
          "max": "48",
          "histogram": [
           {
            "bin_start": 39,
            "bin_end": 39.9,
            "count": 1
           },
           {
            "bin_start": 39.9,
            "bin_end": 40.8,
            "count": 0
           },
           {
            "bin_start": 40.8,
            "bin_end": 41.7,
            "count": 0
           },
           {
            "bin_start": 41.7,
            "bin_end": 42.6,
            "count": 0
           },
           {
            "bin_start": 42.6,
            "bin_end": 43.5,
            "count": 0
           },
           {
            "bin_start": 43.5,
            "bin_end": 44.4,
            "count": 0
           },
           {
            "bin_start": 44.4,
            "bin_end": 45.3,
            "count": 0
           },
           {
            "bin_start": 45.3,
            "bin_end": 46.2,
            "count": 1
           },
           {
            "bin_start": 46.2,
            "bin_end": 47.1,
            "count": 0
           },
           {
            "bin_start": 47.1,
            "bin_end": 48,
            "count": 1
           }
          ]
         }
        },
        {
         "name": "education",
         "dtype": "float64",
         "stats": {
          "unique_count": 3,
          "nan_count": 0,
          "min": "1.0",
          "max": "4.0",
          "histogram": [
           {
            "bin_start": 1,
            "bin_end": 1.3,
            "count": 1
           },
           {
            "bin_start": 1.3,
            "bin_end": 1.6,
            "count": 0
           },
           {
            "bin_start": 1.6,
            "bin_end": 1.9,
            "count": 0
           },
           {
            "bin_start": 1.9,
            "bin_end": 2.2,
            "count": 1
           },
           {
            "bin_start": 2.2,
            "bin_end": 2.5,
            "count": 0
           },
           {
            "bin_start": 2.5,
            "bin_end": 2.8,
            "count": 0
           },
           {
            "bin_start": 2.8,
            "bin_end": 3.1,
            "count": 0
           },
           {
            "bin_start": 3.1,
            "bin_end": 3.4,
            "count": 0
           },
           {
            "bin_start": 3.4,
            "bin_end": 3.6999999999999997,
            "count": 0
           },
           {
            "bin_start": 3.6999999999999997,
            "bin_end": 4,
            "count": 1
           }
          ]
         }
        },
        {
         "name": "currentSmoker",
         "dtype": "int64",
         "stats": {
          "unique_count": 2,
          "nan_count": 0,
          "min": "0",
          "max": "1",
          "histogram": [
           {
            "bin_start": 0,
            "bin_end": 0.1,
            "count": 2
           },
           {
            "bin_start": 0.1,
            "bin_end": 0.2,
            "count": 0
           },
           {
            "bin_start": 0.2,
            "bin_end": 0.30000000000000004,
            "count": 0
           },
           {
            "bin_start": 0.30000000000000004,
            "bin_end": 0.4,
            "count": 0
           },
           {
            "bin_start": 0.4,
            "bin_end": 0.5,
            "count": 0
           },
           {
            "bin_start": 0.5,
            "bin_end": 0.6000000000000001,
            "count": 0
           },
           {
            "bin_start": 0.6000000000000001,
            "bin_end": 0.7000000000000001,
            "count": 0
           },
           {
            "bin_start": 0.7000000000000001,
            "bin_end": 0.8,
            "count": 0
           },
           {
            "bin_start": 0.8,
            "bin_end": 0.9,
            "count": 0
           },
           {
            "bin_start": 0.9,
            "bin_end": 1,
            "count": 1
           }
          ]
         }
        },
        {
         "name": "cigsPerDay",
         "dtype": "float64",
         "stats": {
          "unique_count": 2,
          "nan_count": 0,
          "min": "0.0",
          "max": "20.0",
          "histogram": [
           {
            "bin_start": 0,
            "bin_end": 2,
            "count": 2
           },
           {
            "bin_start": 2,
            "bin_end": 4,
            "count": 0
           },
           {
            "bin_start": 4,
            "bin_end": 6,
            "count": 0
           },
           {
            "bin_start": 6,
            "bin_end": 8,
            "count": 0
           },
           {
            "bin_start": 8,
            "bin_end": 10,
            "count": 0
           },
           {
            "bin_start": 10,
            "bin_end": 12,
            "count": 0
           },
           {
            "bin_start": 12,
            "bin_end": 14,
            "count": 0
           },
           {
            "bin_start": 14,
            "bin_end": 16,
            "count": 0
           },
           {
            "bin_start": 16,
            "bin_end": 18,
            "count": 0
           },
           {
            "bin_start": 18,
            "bin_end": 20,
            "count": 1
           }
          ]
         }
        },
        {
         "name": "BPMeds",
         "dtype": "float64",
         "stats": {
          "unique_count": 1,
          "nan_count": 0,
          "min": "0.0",
          "max": "0.0",
          "histogram": [
           {
            "bin_start": -0.5,
            "bin_end": -0.4,
            "count": 0
           },
           {
            "bin_start": -0.4,
            "bin_end": -0.3,
            "count": 0
           },
           {
            "bin_start": -0.3,
            "bin_end": -0.19999999999999996,
            "count": 0
           },
           {
            "bin_start": -0.19999999999999996,
            "bin_end": -0.09999999999999998,
            "count": 0
           },
           {
            "bin_start": -0.09999999999999998,
            "bin_end": 0,
            "count": 0
           },
           {
            "bin_start": 0,
            "bin_end": 0.10000000000000009,
            "count": 3
           },
           {
            "bin_start": 0.10000000000000009,
            "bin_end": 0.20000000000000007,
            "count": 0
           },
           {
            "bin_start": 0.20000000000000007,
            "bin_end": 0.30000000000000004,
            "count": 0
           },
           {
            "bin_start": 0.30000000000000004,
            "bin_end": 0.4,
            "count": 0
           },
           {
            "bin_start": 0.4,
            "bin_end": 0.5,
            "count": 0
           }
          ]
         }
        },
        {
         "name": "prevalentStroke",
         "dtype": "int64",
         "stats": {
          "unique_count": 1,
          "nan_count": 0,
          "min": "0",
          "max": "0",
          "histogram": [
           {
            "bin_start": -0.5,
            "bin_end": -0.4,
            "count": 0
           },
           {
            "bin_start": -0.4,
            "bin_end": -0.3,
            "count": 0
           },
           {
            "bin_start": -0.3,
            "bin_end": -0.19999999999999996,
            "count": 0
           },
           {
            "bin_start": -0.19999999999999996,
            "bin_end": -0.09999999999999998,
            "count": 0
           },
           {
            "bin_start": -0.09999999999999998,
            "bin_end": 0,
            "count": 0
           },
           {
            "bin_start": 0,
            "bin_end": 0.10000000000000009,
            "count": 3
           },
           {
            "bin_start": 0.10000000000000009,
            "bin_end": 0.20000000000000007,
            "count": 0
           },
           {
            "bin_start": 0.20000000000000007,
            "bin_end": 0.30000000000000004,
            "count": 0
           },
           {
            "bin_start": 0.30000000000000004,
            "bin_end": 0.4,
            "count": 0
           },
           {
            "bin_start": 0.4,
            "bin_end": 0.5,
            "count": 0
           }
          ]
         }
        },
        {
         "name": "prevalentHyp",
         "dtype": "int64",
         "stats": {
          "unique_count": 1,
          "nan_count": 0,
          "min": "0",
          "max": "0",
          "histogram": [
           {
            "bin_start": -0.5,
            "bin_end": -0.4,
            "count": 0
           },
           {
            "bin_start": -0.4,
            "bin_end": -0.3,
            "count": 0
           },
           {
            "bin_start": -0.3,
            "bin_end": -0.19999999999999996,
            "count": 0
           },
           {
            "bin_start": -0.19999999999999996,
            "bin_end": -0.09999999999999998,
            "count": 0
           },
           {
            "bin_start": -0.09999999999999998,
            "bin_end": 0,
            "count": 0
           },
           {
            "bin_start": 0,
            "bin_end": 0.10000000000000009,
            "count": 3
           },
           {
            "bin_start": 0.10000000000000009,
            "bin_end": 0.20000000000000007,
            "count": 0
           },
           {
            "bin_start": 0.20000000000000007,
            "bin_end": 0.30000000000000004,
            "count": 0
           },
           {
            "bin_start": 0.30000000000000004,
            "bin_end": 0.4,
            "count": 0
           },
           {
            "bin_start": 0.4,
            "bin_end": 0.5,
            "count": 0
           }
          ]
         }
        },
        {
         "name": "diabetes",
         "dtype": "int64",
         "stats": {
          "unique_count": 1,
          "nan_count": 0,
          "min": "0",
          "max": "0",
          "histogram": [
           {
            "bin_start": -0.5,
            "bin_end": -0.4,
            "count": 0
           },
           {
            "bin_start": -0.4,
            "bin_end": -0.3,
            "count": 0
           },
           {
            "bin_start": -0.3,
            "bin_end": -0.19999999999999996,
            "count": 0
           },
           {
            "bin_start": -0.19999999999999996,
            "bin_end": -0.09999999999999998,
            "count": 0
           },
           {
            "bin_start": -0.09999999999999998,
            "bin_end": 0,
            "count": 0
           },
           {
            "bin_start": 0,
            "bin_end": 0.10000000000000009,
            "count": 3
           },
           {
            "bin_start": 0.10000000000000009,
            "bin_end": 0.20000000000000007,
            "count": 0
           },
           {
            "bin_start": 0.20000000000000007,
            "bin_end": 0.30000000000000004,
            "count": 0
           },
           {
            "bin_start": 0.30000000000000004,
            "bin_end": 0.4,
            "count": 0
           },
           {
            "bin_start": 0.4,
            "bin_end": 0.5,
            "count": 0
           }
          ]
         }
        },
        {
         "name": "totChol",
         "dtype": "float64",
         "stats": {
          "unique_count": 3,
          "nan_count": 0,
          "min": "195.0",
          "max": "250.0",
          "histogram": [
           {
            "bin_start": 195,
            "bin_end": 200.5,
            "count": 1
           },
           {
            "bin_start": 200.5,
            "bin_end": 206,
            "count": 0
           },
           {
            "bin_start": 206,
            "bin_end": 211.5,
            "count": 0
           },
           {
            "bin_start": 211.5,
            "bin_end": 217,
            "count": 0
           },
           {
            "bin_start": 217,
            "bin_end": 222.5,
            "count": 0
           },
           {
            "bin_start": 222.5,
            "bin_end": 228,
            "count": 0
           },
           {
            "bin_start": 228,
            "bin_end": 233.5,
            "count": 0
           },
           {
            "bin_start": 233.5,
            "bin_end": 239,
            "count": 0
           },
           {
            "bin_start": 239,
            "bin_end": 244.5,
            "count": 0
           },
           {
            "bin_start": 244.5,
            "bin_end": 250,
            "count": 2
           }
          ]
         }
        },
        {
         "name": "sysBP",
         "dtype": "float64",
         "stats": {
          "unique_count": 3,
          "nan_count": 0,
          "min": "106.0",
          "max": "127.5",
          "histogram": [
           {
            "bin_start": 106,
            "bin_end": 108.15,
            "count": 1
           },
           {
            "bin_start": 108.15,
            "bin_end": 110.3,
            "count": 0
           },
           {
            "bin_start": 110.3,
            "bin_end": 112.45,
            "count": 0
           },
           {
            "bin_start": 112.45,
            "bin_end": 114.6,
            "count": 0
           },
           {
            "bin_start": 114.6,
            "bin_end": 116.75,
            "count": 0
           },
           {
            "bin_start": 116.75,
            "bin_end": 118.9,
            "count": 0
           },
           {
            "bin_start": 118.9,
            "bin_end": 121.05,
            "count": 1
           },
           {
            "bin_start": 121.05,
            "bin_end": 123.2,
            "count": 0
           },
           {
            "bin_start": 123.2,
            "bin_end": 125.35,
            "count": 0
           },
           {
            "bin_start": 125.35,
            "bin_end": 127.5,
            "count": 1
           }
          ]
         }
        },
        {
         "name": "diaBP",
         "dtype": "float64",
         "stats": {
          "unique_count": 3,
          "nan_count": 0,
          "min": "70.0",
          "max": "81.0",
          "histogram": [
           {
            "bin_start": 70,
            "bin_end": 71.1,
            "count": 1
           },
           {
            "bin_start": 71.1,
            "bin_end": 72.2,
            "count": 0
           },
           {
            "bin_start": 72.2,
            "bin_end": 73.3,
            "count": 0
           },
           {
            "bin_start": 73.3,
            "bin_end": 74.4,
            "count": 0
           },
           {
            "bin_start": 74.4,
            "bin_end": 75.5,
            "count": 0
           },
           {
            "bin_start": 75.5,
            "bin_end": 76.6,
            "count": 0
           },
           {
            "bin_start": 76.6,
            "bin_end": 77.7,
            "count": 0
           },
           {
            "bin_start": 77.7,
            "bin_end": 78.8,
            "count": 0
           },
           {
            "bin_start": 78.8,
            "bin_end": 79.9,
            "count": 0
           },
           {
            "bin_start": 79.9,
            "bin_end": 81,
            "count": 2
           }
          ]
         }
        },
        {
         "name": "BMI",
         "dtype": "float64",
         "stats": {
          "unique_count": 3,
          "nan_count": 0,
          "min": "25.34",
          "max": "28.73",
          "histogram": [
           {
            "bin_start": 25.34,
            "bin_end": 25.679,
            "count": 1
           },
           {
            "bin_start": 25.679,
            "bin_end": 26.018,
            "count": 0
           },
           {
            "bin_start": 26.018,
            "bin_end": 26.357,
            "count": 0
           },
           {
            "bin_start": 26.357,
            "bin_end": 26.696,
            "count": 0
           },
           {
            "bin_start": 26.696,
            "bin_end": 27.035,
            "count": 1
           },
           {
            "bin_start": 27.035,
            "bin_end": 27.374000000000002,
            "count": 0
           },
           {
            "bin_start": 27.374000000000002,
            "bin_end": 27.713,
            "count": 0
           },
           {
            "bin_start": 27.713,
            "bin_end": 28.052,
            "count": 0
           },
           {
            "bin_start": 28.052,
            "bin_end": 28.391000000000002,
            "count": 0
           },
           {
            "bin_start": 28.391000000000002,
            "bin_end": 28.73,
            "count": 1
           }
          ]
         }
        },
        {
         "name": "heartRate",
         "dtype": "float64",
         "stats": {
          "unique_count": 3,
          "nan_count": 0,
          "min": "75.0",
          "max": "95.0",
          "histogram": [
           {
            "bin_start": 75,
            "bin_end": 77,
            "count": 1
           },
           {
            "bin_start": 77,
            "bin_end": 79,
            "count": 0
           },
           {
            "bin_start": 79,
            "bin_end": 81,
            "count": 1
           },
           {
            "bin_start": 81,
            "bin_end": 83,
            "count": 0
           },
           {
            "bin_start": 83,
            "bin_end": 85,
            "count": 0
           },
           {
            "bin_start": 85,
            "bin_end": 87,
            "count": 0
           },
           {
            "bin_start": 87,
            "bin_end": 89,
            "count": 0
           },
           {
            "bin_start": 89,
            "bin_end": 91,
            "count": 0
           },
           {
            "bin_start": 91,
            "bin_end": 93,
            "count": 0
           },
           {
            "bin_start": 93,
            "bin_end": 95,
            "count": 1
           }
          ]
         }
        },
        {
         "name": "glucose",
         "dtype": "float64",
         "stats": {
          "unique_count": 3,
          "nan_count": 0,
          "min": "70.0",
          "max": "77.0",
          "histogram": [
           {
            "bin_start": 70,
            "bin_end": 70.7,
            "count": 1
           },
           {
            "bin_start": 70.7,
            "bin_end": 71.4,
            "count": 0
           },
           {
            "bin_start": 71.4,
            "bin_end": 72.1,
            "count": 0
           },
           {
            "bin_start": 72.1,
            "bin_end": 72.8,
            "count": 0
           },
           {
            "bin_start": 72.8,
            "bin_end": 73.5,
            "count": 0
           },
           {
            "bin_start": 73.5,
            "bin_end": 74.2,
            "count": 0
           },
           {
            "bin_start": 74.2,
            "bin_end": 74.9,
            "count": 0
           },
           {
            "bin_start": 74.9,
            "bin_end": 75.6,
            "count": 0
           },
           {
            "bin_start": 75.6,
            "bin_end": 76.3,
            "count": 1
           },
           {
            "bin_start": 76.3,
            "bin_end": 77,
            "count": 1
           }
          ]
         }
        },
        {
         "name": "TenYearCHD",
         "dtype": "int64",
         "stats": {
          "unique_count": 1,
          "nan_count": 0,
          "min": "0",
          "max": "0",
          "histogram": [
           {
            "bin_start": -0.5,
            "bin_end": -0.4,
            "count": 0
           },
           {
            "bin_start": -0.4,
            "bin_end": -0.3,
            "count": 0
           },
           {
            "bin_start": -0.3,
            "bin_end": -0.19999999999999996,
            "count": 0
           },
           {
            "bin_start": -0.19999999999999996,
            "bin_end": -0.09999999999999998,
            "count": 0
           },
           {
            "bin_start": -0.09999999999999998,
            "bin_end": 0,
            "count": 0
           },
           {
            "bin_start": 0,
            "bin_end": 0.10000000000000009,
            "count": 3
           },
           {
            "bin_start": 0.10000000000000009,
            "bin_end": 0.20000000000000007,
            "count": 0
           },
           {
            "bin_start": 0.20000000000000007,
            "bin_end": 0.30000000000000004,
            "count": 0
           },
           {
            "bin_start": 0.30000000000000004,
            "bin_end": 0.4,
            "count": 0
           },
           {
            "bin_start": 0.4,
            "bin_end": 0.5,
            "count": 0
           }
          ]
         }
        },
        {
         "name": "_deepnote_index_column",
         "dtype": "int64"
        }
       ],
       "rows": [
        {
         "male": 1,
         "age": 39,
         "education": 4,
         "currentSmoker": 0,
         "cigsPerDay": 0,
         "BPMeds": 0,
         "prevalentStroke": 0,
         "prevalentHyp": 0,
         "diabetes": 0,
         "totChol": 195,
         "sysBP": 106,
         "diaBP": 70,
         "BMI": 26.97,
         "heartRate": 80,
         "glucose": 77,
         "TenYearCHD": 0,
         "_deepnote_index_column": 0
        },
        {
         "male": 0,
         "age": 46,
         "education": 2,
         "currentSmoker": 0,
         "cigsPerDay": 0,
         "BPMeds": 0,
         "prevalentStroke": 0,
         "prevalentHyp": 0,
         "diabetes": 0,
         "totChol": 250,
         "sysBP": 121,
         "diaBP": 81,
         "BMI": 28.73,
         "heartRate": 95,
         "glucose": 76,
         "TenYearCHD": 0,
         "_deepnote_index_column": 1
        },
        {
         "male": 1,
         "age": 48,
         "education": 1,
         "currentSmoker": 1,
         "cigsPerDay": 20,
         "BPMeds": 0,
         "prevalentStroke": 0,
         "prevalentHyp": 0,
         "diabetes": 0,
         "totChol": 245,
         "sysBP": 127.5,
         "diaBP": 80,
         "BMI": 25.34,
         "heartRate": 75,
         "glucose": 70,
         "TenYearCHD": 0,
         "_deepnote_index_column": 2
        }
       ]
      },
      "text/plain": "   male  age  education  currentSmoker  cigsPerDay  BPMeds  prevalentStroke  \\\n0     1   39        4.0              0         0.0     0.0                0   \n1     0   46        2.0              0         0.0     0.0                0   \n2     1   48        1.0              1        20.0     0.0                0   \n\n   prevalentHyp  diabetes  totChol  sysBP  diaBP    BMI  heartRate  glucose  \\\n0             0         0    195.0  106.0   70.0  26.97       80.0     77.0   \n1             0         0    250.0  121.0   81.0  28.73       95.0     76.0   \n2             0         0    245.0  127.5   80.0  25.34       75.0     70.0   \n\n   TenYearCHD  \n0           0  \n1           0  \n2           0  ",
      "text/html": "<div>\n<style scoped>\n    .dataframe tbody tr th:only-of-type {\n        vertical-align: middle;\n    }\n\n    .dataframe tbody tr th {\n        vertical-align: top;\n    }\n\n    .dataframe thead th {\n        text-align: right;\n    }\n</style>\n<table border=\"1\" class=\"dataframe\">\n  <thead>\n    <tr style=\"text-align: right;\">\n      <th></th>\n      <th>male</th>\n      <th>age</th>\n      <th>education</th>\n      <th>currentSmoker</th>\n      <th>cigsPerDay</th>\n      <th>BPMeds</th>\n      <th>prevalentStroke</th>\n      <th>prevalentHyp</th>\n      <th>diabetes</th>\n      <th>totChol</th>\n      <th>sysBP</th>\n      <th>diaBP</th>\n      <th>BMI</th>\n      <th>heartRate</th>\n      <th>glucose</th>\n      <th>TenYearCHD</th>\n    </tr>\n  </thead>\n  <tbody>\n    <tr>\n      <th>0</th>\n      <td>1</td>\n      <td>39</td>\n      <td>4.0</td>\n      <td>0</td>\n      <td>0.0</td>\n      <td>0.0</td>\n      <td>0</td>\n      <td>0</td>\n      <td>0</td>\n      <td>195.0</td>\n      <td>106.0</td>\n      <td>70.0</td>\n      <td>26.97</td>\n      <td>80.0</td>\n      <td>77.0</td>\n      <td>0</td>\n    </tr>\n    <tr>\n      <th>1</th>\n      <td>0</td>\n      <td>46</td>\n      <td>2.0</td>\n      <td>0</td>\n      <td>0.0</td>\n      <td>0.0</td>\n      <td>0</td>\n      <td>0</td>\n      <td>0</td>\n      <td>250.0</td>\n      <td>121.0</td>\n      <td>81.0</td>\n      <td>28.73</td>\n      <td>95.0</td>\n      <td>76.0</td>\n      <td>0</td>\n    </tr>\n    <tr>\n      <th>2</th>\n      <td>1</td>\n      <td>48</td>\n      <td>1.0</td>\n      <td>1</td>\n      <td>20.0</td>\n      <td>0.0</td>\n      <td>0</td>\n      <td>0</td>\n      <td>0</td>\n      <td>245.0</td>\n      <td>127.5</td>\n      <td>80.0</td>\n      <td>25.34</td>\n      <td>75.0</td>\n      <td>70.0</td>\n      <td>0</td>\n    </tr>\n  </tbody>\n</table>\n</div>"
     },
     "metadata": {}
    }
   ],
   "execution_count": 2
  },
  {
   "cell_type": "markdown",
   "source": "### EDA and Data Cleaning",
   "metadata": {
    "cell_id": "b6becb8ff83d49e7af437927810fe8ce",
    "tags": [],
    "deepnote_cell_type": "markdown",
    "deepnote_cell_height": 62
   }
  },
  {
   "cell_type": "code",
   "source": "#Droping education column\ndf_heart_disease.drop(columns='education',inplace=True)\n\n#Droping the observations that have at least one missing value\ndf_heart_disease.dropna(axis=0,inplace=True)",
   "metadata": {
    "cell_id": "378901ef871c45e884e2ef83e980da73",
    "tags": [],
    "deepnote_to_be_reexecuted": false,
    "source_hash": "2bb04b6c",
    "execution_start": 1650486577249,
    "execution_millis": 46,
    "deepnote_cell_type": "code",
    "deepnote_cell_height": 153
   },
   "outputs": [],
   "execution_count": 3
  },
  {
   "cell_type": "code",
   "source": "for column in df_heart_disease.columns:\n    sns.histplot(x= column,data = df_heart_disease)\n    plt.show()",
   "metadata": {
    "cell_id": "492332fc79d04148b970c03a4267667f",
    "tags": [],
    "deepnote_to_be_reexecuted": false,
    "source_hash": "ad9b896d",
    "execution_start": 1650486577296,
    "execution_millis": 14550,
    "deepnote_cell_type": "code",
    "deepnote_cell_height": 4536,
    "deepnote_output_heights": [
     264,
     264,
     267,
     264,
     264,
     264,
     264,
     264,
     264,
     267,
     264,
     264,
     264,
     267,
     264
    ]
   },
   "outputs": [
    {
     "data": {
      "text/plain": "<Figure size 432x288 with 1 Axes>",
      "image/png": "[encoded data removed]"
     },
     "metadata": {
      "needs_background": "light",
      "image/png": {
       "width": 395,
       "height": 262
      }
     },
     "output_type": "display_data"
    },
    {
     "data": {
      "text/plain": "<Figure size 432x288 with 1 Axes>",
      "image/png": "[encoded data removed]"
     },
     "metadata": {
      "needs_background": "light",
      "image/png": {
       "width": 389,
       "height": 262
      }
     },
     "output_type": "display_data"
    },
    {
     "data": {
      "text/plain": "<Figure size 432x288 with 1 Axes>",
      "image/png": "[encoded data removed]"
     },
     "metadata": {
      "needs_background": "light",
      "image/png": {
       "width": 395,
       "height": 265
      }
     },
     "output_type": "display_data"
    },
    {
     "data": {
      "text/plain": "<Figure size 432x288 with 1 Axes>",
      "image/png": "[encoded data removed]"
     },
     "metadata": {
      "needs_background": "light",
      "image/png": {
       "width": 395,
       "height": 262
      }
     },
     "output_type": "display_data"
    },
    {
     "data": {
      "text/plain": "<Figure size 432x288 with 1 Axes>",
      "image/png": "[encoded data removed]"
     },
     "metadata": {
      "needs_background": "light",
      "image/png": {
       "width": 395,
       "height": 262
      }
     },
     "output_type": "display_data"
    },
    {
     "data": {
      "text/plain": "<Figure size 432x288 with 1 Axes>",
      "image/png": "[encoded data removed]"
     },
     "metadata": {
      "needs_background": "light",
      "image/png": {
       "width": 395,
       "height": 262
      }
     },
     "output_type": "display_data"
    },
    {
     "data": {
      "text/plain": "<Figure size 432x288 with 1 Axes>",
      "image/png": "[encoded data removed]"
     },
     "metadata": {
      "needs_background": "light",
      "image/png": {
       "width": 395,
       "height": 262
      }
     },
     "output_type": "display_data"
    },
    {
     "data": {
      "text/plain": "<Figure size 432x288 with 1 Axes>",
      "image/png": "[encoded data removed]"
     },
     "metadata": {
      "needs_background": "light",
      "image/png": {
       "width": 395,
       "height": 262
      }
     },
     "output_type": "display_data"
    },
    {
     "data": {
      "text/plain": "<Figure size 432x288 with 1 Axes>",
      "image/png": "[encoded data removed]"
     },
     "metadata": {
      "needs_background": "light",
      "image/png": {
       "width": 389,
       "height": 262
      }
     },
     "output_type": "display_data"
    },
    {
     "data": {
      "text/plain": "<Figure size 432x288 with 1 Axes>",
      "image/png": "[encoded data removed]"
     },
     "metadata": {
      "needs_background": "light",
      "image/png": {
       "width": 390,
       "height": 265
      }
     },
     "output_type": "display_data"
    },
    {
     "data": {
      "text/plain": "<Figure size 432x288 with 1 Axes>",
      "image/png": "[encoded data removed]"
     },
     "metadata": {
      "needs_background": "light",
      "image/png": {
       "width": 389,
       "height": 262
      }
     },
     "output_type": "display_data"
    },
    {
     "data": {
      "text/plain": "<Figure size 432x288 with 1 Axes>",
      "image/png": "[encoded data removed]"
     },
     "metadata": {
      "needs_background": "light",
      "image/png": {
       "width": 389,
       "height": 262
      }
     },
     "output_type": "display_data"
    },
    {
     "data": {
      "text/plain": "<Figure size 432x288 with 1 Axes>",
      "image/png": "[encoded data removed]"
     },
     "metadata": {
      "needs_background": "light",
      "image/png": {
       "width": 389,
       "height": 262
      }
     },
     "output_type": "display_data"
    },
    {
     "data": {
      "text/plain": "<Figure size 432x288 with 1 Axes>",
      "image/png": "[encoded data removed]"
     },
     "metadata": {
      "needs_background": "light",
      "image/png": {
       "width": 389,
       "height": 265
      }
     },
     "output_type": "display_data"
    },
    {
     "data": {
      "text/plain": "<Figure size 432x288 with 1 Axes>",
      "image/png": "[encoded data removed]"
     },
     "metadata": {
      "needs_background": "light",
      "image/png": {
       "width": 395,
       "height": 262
      }
     },
     "output_type": "display_data"
    }
   ],
   "execution_count": 4
  },
  {
   "cell_type": "code",
   "source": "df_heart_disease_No = df_heart_disease[df_heart_disease['TenYearCHD']==0].sample(n=600,random_state=2)\ndf_heart_disease_Yes = df_heart_disease[df_heart_disease['TenYearCHD']==1]\ndf_heart_disease_sample = pd.concat([df_heart_disease_No,df_heart_disease_Yes],axis=0)\ndf_heart_disease_sample = df_heart_disease_sample.sample(frac = 1)\ndf_heart_disease_sample.reset_index( drop=True, inplace=True)\ndf_heart_disease_sample.head(5)",
   "metadata": {
    "cell_id": "6c1d033819644955969f4b7d75854324",
    "tags": [],
    "deepnote_to_be_reexecuted": false,
    "source_hash": "51f94a24",
    "execution_start": 1650486591427,
    "execution_millis": 430,
    "deepnote_cell_type": "code",
    "deepnote_cell_height": 502
   },
   "outputs": [
    {
     "output_type": "execute_result",
     "execution_count": 5,
     "data": {
      "application/vnd.deepnote.dataframe.v3+json": {
       "column_count": 15,
       "row_count": 5,
       "columns": [
        {
         "name": "male",
         "dtype": "int64",
         "stats": {
          "unique_count": 2,
          "nan_count": 0,
          "min": "0",
          "max": "1",
          "histogram": [
           {
            "bin_start": 0,
            "bin_end": 0.1,
            "count": 4
           },
           {
            "bin_start": 0.1,
            "bin_end": 0.2,
            "count": 0
           },
           {
            "bin_start": 0.2,
            "bin_end": 0.30000000000000004,
            "count": 0
           },
           {
            "bin_start": 0.30000000000000004,
            "bin_end": 0.4,
            "count": 0
           },
           {
            "bin_start": 0.4,
            "bin_end": 0.5,
            "count": 0
           },
           {
            "bin_start": 0.5,
            "bin_end": 0.6000000000000001,
            "count": 0
           },
           {
            "bin_start": 0.6000000000000001,
            "bin_end": 0.7000000000000001,
            "count": 0
           },
           {
            "bin_start": 0.7000000000000001,
            "bin_end": 0.8,
            "count": 0
           },
           {
            "bin_start": 0.8,
            "bin_end": 0.9,
            "count": 0
           },
           {
            "bin_start": 0.9,
            "bin_end": 1,
            "count": 1
           }
          ]
         }
        },
        {
         "name": "age",
         "dtype": "int64",
         "stats": {
          "unique_count": 5,
          "nan_count": 0,
          "min": "36",
          "max": "57",
          "histogram": [
           {
            "bin_start": 36,
            "bin_end": 38.1,
            "count": 1
           },
           {
            "bin_start": 38.1,
            "bin_end": 40.2,
            "count": 1
           },
           {
            "bin_start": 40.2,
            "bin_end": 42.3,
            "count": 0
           },
           {
            "bin_start": 42.3,
            "bin_end": 44.4,
            "count": 0
           },
           {
            "bin_start": 44.4,
            "bin_end": 46.5,
            "count": 0
           },
           {
            "bin_start": 46.5,
            "bin_end": 48.6,
            "count": 0
           },
           {
            "bin_start": 48.6,
            "bin_end": 50.7,
            "count": 1
           },
           {
            "bin_start": 50.7,
            "bin_end": 52.8,
            "count": 1
           },
           {
            "bin_start": 52.8,
            "bin_end": 54.900000000000006,
            "count": 0
           },
           {
            "bin_start": 54.900000000000006,
            "bin_end": 57,
            "count": 1
           }
          ]
         }
        },
        {
         "name": "currentSmoker",
         "dtype": "int64",
         "stats": {
          "unique_count": 2,
          "nan_count": 0,
          "min": "0",
          "max": "1",
          "histogram": [
           {
            "bin_start": 0,
            "bin_end": 0.1,
            "count": 2
           },
           {
            "bin_start": 0.1,
            "bin_end": 0.2,
            "count": 0
           },
           {
            "bin_start": 0.2,
            "bin_end": 0.30000000000000004,
            "count": 0
           },
           {
            "bin_start": 0.30000000000000004,
            "bin_end": 0.4,
            "count": 0
           },
           {
            "bin_start": 0.4,
            "bin_end": 0.5,
            "count": 0
           },
           {
            "bin_start": 0.5,
            "bin_end": 0.6000000000000001,
            "count": 0
           },
           {
            "bin_start": 0.6000000000000001,
            "bin_end": 0.7000000000000001,
            "count": 0
           },
           {
            "bin_start": 0.7000000000000001,
            "bin_end": 0.8,
            "count": 0
           },
           {
            "bin_start": 0.8,
            "bin_end": 0.9,
            "count": 0
           },
           {
            "bin_start": 0.9,
            "bin_end": 1,
            "count": 3
           }
          ]
         }
        },
        {
         "name": "cigsPerDay",
         "dtype": "float64",
         "stats": {
          "unique_count": 4,
          "nan_count": 0,
          "min": "0.0",
          "max": "50.0",
          "histogram": [
           {
            "bin_start": 0,
            "bin_end": 5,
            "count": 2
           },
           {
            "bin_start": 5,
            "bin_end": 10,
            "count": 0
           },
           {
            "bin_start": 10,
            "bin_end": 15,
            "count": 0
           },
           {
            "bin_start": 15,
            "bin_end": 20,
            "count": 1
           },
           {
            "bin_start": 20,
            "bin_end": 25,
            "count": 1
           },
           {
            "bin_start": 25,
            "bin_end": 30,
            "count": 0
           },
           {
            "bin_start": 30,
            "bin_end": 35,
            "count": 0
           },
           {
            "bin_start": 35,
            "bin_end": 40,
            "count": 0
           },
           {
            "bin_start": 40,
            "bin_end": 45,
            "count": 0
           },
           {
            "bin_start": 45,
            "bin_end": 50,
            "count": 1
           }
          ]
         }
        },
        {
         "name": "BPMeds",
         "dtype": "float64",
         "stats": {
          "unique_count": 2,
          "nan_count": 0,
          "min": "0.0",
          "max": "1.0",
          "histogram": [
           {
            "bin_start": 0,
            "bin_end": 0.1,
            "count": 4
           },
           {
            "bin_start": 0.1,
            "bin_end": 0.2,
            "count": 0
           },
           {
            "bin_start": 0.2,
            "bin_end": 0.30000000000000004,
            "count": 0
           },
           {
            "bin_start": 0.30000000000000004,
            "bin_end": 0.4,
            "count": 0
           },
           {
            "bin_start": 0.4,
            "bin_end": 0.5,
            "count": 0
           },
           {
            "bin_start": 0.5,
            "bin_end": 0.6000000000000001,
            "count": 0
           },
           {
            "bin_start": 0.6000000000000001,
            "bin_end": 0.7000000000000001,
            "count": 0
           },
           {
            "bin_start": 0.7000000000000001,
            "bin_end": 0.8,
            "count": 0
           },
           {
            "bin_start": 0.8,
            "bin_end": 0.9,
            "count": 0
           },
           {
            "bin_start": 0.9,
            "bin_end": 1,
            "count": 1
           }
          ]
         }
        },
        {
         "name": "prevalentStroke",
         "dtype": "int64",
         "stats": {
          "unique_count": 1,
          "nan_count": 0,
          "min": "0",
          "max": "0",
          "histogram": [
           {
            "bin_start": -0.5,
            "bin_end": -0.4,
            "count": 0
           },
           {
            "bin_start": -0.4,
            "bin_end": -0.3,
            "count": 0
           },
           {
            "bin_start": -0.3,
            "bin_end": -0.19999999999999996,
            "count": 0
           },
           {
            "bin_start": -0.19999999999999996,
            "bin_end": -0.09999999999999998,
            "count": 0
           },
           {
            "bin_start": -0.09999999999999998,
            "bin_end": 0,
            "count": 0
           },
           {
            "bin_start": 0,
            "bin_end": 0.10000000000000009,
            "count": 5
           },
           {
            "bin_start": 0.10000000000000009,
            "bin_end": 0.20000000000000007,
            "count": 0
           },
           {
            "bin_start": 0.20000000000000007,
            "bin_end": 0.30000000000000004,
            "count": 0
           },
           {
            "bin_start": 0.30000000000000004,
            "bin_end": 0.4,
            "count": 0
           },
           {
            "bin_start": 0.4,
            "bin_end": 0.5,
            "count": 0
           }
          ]
         }
        },
        {
         "name": "prevalentHyp",
         "dtype": "int64",
         "stats": {
          "unique_count": 2,
          "nan_count": 0,
          "min": "0",
          "max": "1",
          "histogram": [
           {
            "bin_start": 0,
            "bin_end": 0.1,
            "count": 4
           },
           {
            "bin_start": 0.1,
            "bin_end": 0.2,
            "count": 0
           },
           {
            "bin_start": 0.2,
            "bin_end": 0.30000000000000004,
            "count": 0
           },
           {
            "bin_start": 0.30000000000000004,
            "bin_end": 0.4,
            "count": 0
           },
           {
            "bin_start": 0.4,
            "bin_end": 0.5,
            "count": 0
           },
           {
            "bin_start": 0.5,
            "bin_end": 0.6000000000000001,
            "count": 0
           },
           {
            "bin_start": 0.6000000000000001,
            "bin_end": 0.7000000000000001,
            "count": 0
           },
           {
            "bin_start": 0.7000000000000001,
            "bin_end": 0.8,
            "count": 0
           },
           {
            "bin_start": 0.8,
            "bin_end": 0.9,
            "count": 0
           },
           {
            "bin_start": 0.9,
            "bin_end": 1,
            "count": 1
           }
          ]
         }
        },
        {
         "name": "diabetes",
         "dtype": "int64",
         "stats": {
          "unique_count": 1,
          "nan_count": 0,
          "min": "0",
          "max": "0",
          "histogram": [
           {
            "bin_start": -0.5,
            "bin_end": -0.4,
            "count": 0
           },
           {
            "bin_start": -0.4,
            "bin_end": -0.3,
            "count": 0
           },
           {
            "bin_start": -0.3,
            "bin_end": -0.19999999999999996,
            "count": 0
           },
           {
            "bin_start": -0.19999999999999996,
            "bin_end": -0.09999999999999998,
            "count": 0
           },
           {
            "bin_start": -0.09999999999999998,
            "bin_end": 0,
            "count": 0
           },
           {
            "bin_start": 0,
            "bin_end": 0.10000000000000009,
            "count": 5
           },
           {
            "bin_start": 0.10000000000000009,
            "bin_end": 0.20000000000000007,
            "count": 0
           },
           {
            "bin_start": 0.20000000000000007,
            "bin_end": 0.30000000000000004,
            "count": 0
           },
           {
            "bin_start": 0.30000000000000004,
            "bin_end": 0.4,
            "count": 0
           },
           {
            "bin_start": 0.4,
            "bin_end": 0.5,
            "count": 0
           }
          ]
         }
        },
        {
         "name": "totChol",
         "dtype": "float64",
         "stats": {
          "unique_count": 5,
          "nan_count": 0,
          "min": "177.0",
          "max": "432.0",
          "histogram": [
           {
            "bin_start": 177,
            "bin_end": 202.5,
            "count": 1
           },
           {
            "bin_start": 202.5,
            "bin_end": 228,
            "count": 1
           },
           {
            "bin_start": 228,
            "bin_end": 253.5,
            "count": 2
           },
           {
            "bin_start": 253.5,
            "bin_end": 279,
            "count": 0
           },
           {
            "bin_start": 279,
            "bin_end": 304.5,
            "count": 0
           },
           {
            "bin_start": 304.5,
            "bin_end": 330,
            "count": 0
           },
           {
            "bin_start": 330,
            "bin_end": 355.5,
            "count": 0
           },
           {
            "bin_start": 355.5,
            "bin_end": 381,
            "count": 0
           },
           {
            "bin_start": 381,
            "bin_end": 406.5,
            "count": 0
           },
           {
            "bin_start": 406.5,
            "bin_end": 432,
            "count": 1
           }
          ]
         }
        },
        {
         "name": "sysBP",
         "dtype": "float64",
         "stats": {
          "unique_count": 5,
          "nan_count": 0,
          "min": "115.0",
          "max": "156.0",
          "histogram": [
           {
            "bin_start": 115,
            "bin_end": 119.1,
            "count": 1
           },
           {
            "bin_start": 119.1,
            "bin_end": 123.2,
            "count": 0
           },
           {
            "bin_start": 123.2,
            "bin_end": 127.3,
            "count": 0
           },
           {
            "bin_start": 127.3,
            "bin_end": 131.4,
            "count": 1
           },
           {
            "bin_start": 131.4,
            "bin_end": 135.5,
            "count": 1
           },
           {
            "bin_start": 135.5,
            "bin_end": 139.6,
            "count": 0
           },
           {
            "bin_start": 139.6,
            "bin_end": 143.7,
            "count": 0
           },
           {
            "bin_start": 143.7,
            "bin_end": 147.8,
            "count": 0
           },
           {
            "bin_start": 147.8,
            "bin_end": 151.9,
            "count": 0
           },
           {
            "bin_start": 151.9,
            "bin_end": 156,
            "count": 2
           }
          ]
         }
        },
        {
         "name": "diaBP",
         "dtype": "float64",
         "stats": {
          "unique_count": 5,
          "nan_count": 0,
          "min": "63.5",
          "max": "91.0",
          "histogram": [
           {
            "bin_start": 63.5,
            "bin_end": 66.25,
            "count": 1
           },
           {
            "bin_start": 66.25,
            "bin_end": 69,
            "count": 0
           },
           {
            "bin_start": 69,
            "bin_end": 71.75,
            "count": 0
           },
           {
            "bin_start": 71.75,
            "bin_end": 74.5,
            "count": 0
           },
           {
            "bin_start": 74.5,
            "bin_end": 77.25,
            "count": 0
           },
           {
            "bin_start": 77.25,
            "bin_end": 80,
            "count": 0
           },
           {
            "bin_start": 80,
            "bin_end": 82.75,
            "count": 1
           },
           {
            "bin_start": 82.75,
            "bin_end": 85.5,
            "count": 2
           },
           {
            "bin_start": 85.5,
            "bin_end": 88.25,
            "count": 0
           },
           {
            "bin_start": 88.25,
            "bin_end": 91,
            "count": 1
           }
          ]
         }
        },
        {
         "name": "BMI",
         "dtype": "float64",
         "stats": {
          "unique_count": 5,
          "nan_count": 0,
          "min": "22.54",
          "max": "28.86",
          "histogram": [
           {
            "bin_start": 22.54,
            "bin_end": 23.172,
            "count": 1
           },
           {
            "bin_start": 23.172,
            "bin_end": 23.804,
            "count": 0
           },
           {
            "bin_start": 23.804,
            "bin_end": 24.436,
            "count": 1
           },
           {
            "bin_start": 24.436,
            "bin_end": 25.067999999999998,
            "count": 0
           },
           {
            "bin_start": 25.067999999999998,
            "bin_end": 25.7,
            "count": 1
           },
           {
            "bin_start": 25.7,
            "bin_end": 26.332,
            "count": 1
           },
           {
            "bin_start": 26.332,
            "bin_end": 26.964,
            "count": 0
           },
           {
            "bin_start": 26.964,
            "bin_end": 27.596,
            "count": 0
           },
           {
            "bin_start": 27.596,
            "bin_end": 28.227999999999998,
            "count": 0
           },
           {
            "bin_start": 28.227999999999998,
            "bin_end": 28.86,
            "count": 1
           }
          ]
         }
        },
        {
         "name": "heartRate",
         "dtype": "float64",
         "stats": {
          "unique_count": 5,
          "nan_count": 0,
          "min": "65.0",
          "max": "98.0",
          "histogram": [
           {
            "bin_start": 65,
            "bin_end": 68.3,
            "count": 1
           },
           {
            "bin_start": 68.3,
            "bin_end": 71.6,
            "count": 2
           },
           {
            "bin_start": 71.6,
            "bin_end": 74.9,
            "count": 0
           },
           {
            "bin_start": 74.9,
            "bin_end": 78.2,
            "count": 0
           },
           {
            "bin_start": 78.2,
            "bin_end": 81.5,
            "count": 1
           },
           {
            "bin_start": 81.5,
            "bin_end": 84.8,
            "count": 0
           },
           {
            "bin_start": 84.8,
            "bin_end": 88.1,
            "count": 0
           },
           {
            "bin_start": 88.1,
            "bin_end": 91.4,
            "count": 0
           },
           {
            "bin_start": 91.4,
            "bin_end": 94.7,
            "count": 0
           },
           {
            "bin_start": 94.7,
            "bin_end": 98,
            "count": 1
           }
          ]
         }
        },
        {
         "name": "glucose",
         "dtype": "float64",
         "stats": {
          "unique_count": 5,
          "nan_count": 0,
          "min": "73.0",
          "max": "114.0",
          "histogram": [
           {
            "bin_start": 73,
            "bin_end": 77.1,
            "count": 2
           },
           {
            "bin_start": 77.1,
            "bin_end": 81.2,
            "count": 2
           },
           {
            "bin_start": 81.2,
            "bin_end": 85.3,
            "count": 0
           },
           {
            "bin_start": 85.3,
            "bin_end": 89.4,
            "count": 0
           },
           {
            "bin_start": 89.4,
            "bin_end": 93.5,
            "count": 0
           },
           {
            "bin_start": 93.5,
            "bin_end": 97.6,
            "count": 0
           },
           {
            "bin_start": 97.6,
            "bin_end": 101.69999999999999,
            "count": 0
           },
           {
            "bin_start": 101.69999999999999,
            "bin_end": 105.8,
            "count": 0
           },
           {
            "bin_start": 105.8,
            "bin_end": 109.9,
            "count": 0
           },
           {
            "bin_start": 109.9,
            "bin_end": 114,
            "count": 1
           }
          ]
         }
        },
        {
         "name": "TenYearCHD",
         "dtype": "int64",
         "stats": {
          "unique_count": 2,
          "nan_count": 0,
          "min": "0",
          "max": "1",
          "histogram": [
           {
            "bin_start": 0,
            "bin_end": 0.1,
            "count": 2
           },
           {
            "bin_start": 0.1,
            "bin_end": 0.2,
            "count": 0
           },
           {
            "bin_start": 0.2,
            "bin_end": 0.30000000000000004,
            "count": 0
           },
           {
            "bin_start": 0.30000000000000004,
            "bin_end": 0.4,
            "count": 0
           },
           {
            "bin_start": 0.4,
            "bin_end": 0.5,
            "count": 0
           },
           {
            "bin_start": 0.5,
            "bin_end": 0.6000000000000001,
            "count": 0
           },
           {
            "bin_start": 0.6000000000000001,
            "bin_end": 0.7000000000000001,
            "count": 0
           },
           {
            "bin_start": 0.7000000000000001,
            "bin_end": 0.8,
            "count": 0
           },
           {
            "bin_start": 0.8,
            "bin_end": 0.9,
            "count": 0
           },
           {
            "bin_start": 0.9,
            "bin_end": 1,
            "count": 3
           }
          ]
         }
        },
        {
         "name": "_deepnote_index_column",
         "dtype": "int64"
        }
       ],
       "rows": [
        {
         "male": 0,
         "age": 52,
         "currentSmoker": 0,
         "cigsPerDay": 0,
         "BPMeds": 0,
         "prevalentStroke": 0,
         "prevalentHyp": 0,
         "diabetes": 0,
         "totChol": 235,
         "sysBP": 129.5,
         "diaBP": 83,
         "BMI": 28.86,
         "heartRate": 65,
         "glucose": 79,
         "TenYearCHD": 1,
         "_deepnote_index_column": 0
        },
        {
         "male": 0,
         "age": 57,
         "currentSmoker": 0,
         "cigsPerDay": 0,
         "BPMeds": 1,
         "prevalentStroke": 0,
         "prevalentHyp": 1,
         "diabetes": 0,
         "totChol": 432,
         "sysBP": 153,
         "diaBP": 85,
         "BMI": 26.13,
         "heartRate": 98,
         "glucose": 75,
         "TenYearCHD": 1,
         "_deepnote_index_column": 1
        },
        {
         "male": 0,
         "age": 36,
         "currentSmoker": 1,
         "cigsPerDay": 20,
         "BPMeds": 0,
         "prevalentStroke": 0,
         "prevalentHyp": 0,
         "diabetes": 0,
         "totChol": 177,
         "sysBP": 115,
         "diaBP": 63.5,
         "BMI": 22.54,
         "heartRate": 71,
         "glucose": 73,
         "TenYearCHD": 0,
         "_deepnote_index_column": 2
        },
        {
         "male": 0,
         "age": 40,
         "currentSmoker": 1,
         "cigsPerDay": 15,
         "BPMeds": 0,
         "prevalentStroke": 0,
         "prevalentHyp": 0,
         "diabetes": 0,
         "totChol": 220,
         "sysBP": 131.5,
         "diaBP": 82.5,
         "BMI": 24.35,
         "heartRate": 80,
         "glucose": 78,
         "TenYearCHD": 0,
         "_deepnote_index_column": 3
        },
        {
         "male": 1,
         "age": 49,
         "currentSmoker": 1,
         "cigsPerDay": 50,
         "BPMeds": 0,
         "prevalentStroke": 0,
         "prevalentHyp": 0,
         "diabetes": 0,
         "totChol": 252,
         "sysBP": 156,
         "diaBP": 91,
         "BMI": 25.35,
         "heartRate": 70,
         "glucose": 114,
         "TenYearCHD": 1,
         "_deepnote_index_column": 4
        }
       ]
      },
      "text/plain": "   male  age  currentSmoker  cigsPerDay  BPMeds  prevalentStroke  \\\n0     0   52              0         0.0     0.0                0   \n1     0   57              0         0.0     1.0                0   \n2     0   36              1        20.0     0.0                0   \n3     0   40              1        15.0     0.0                0   \n4     1   49              1        50.0     0.0                0   \n\n   prevalentHyp  diabetes  totChol  sysBP  diaBP    BMI  heartRate  glucose  \\\n0             0         0    235.0  129.5   83.0  28.86       65.0     79.0   \n1             1         0    432.0  153.0   85.0  26.13       98.0     75.0   \n2             0         0    177.0  115.0   63.5  22.54       71.0     73.0   \n3             0         0    220.0  131.5   82.5  24.35       80.0     78.0   \n4             0         0    252.0  156.0   91.0  25.35       70.0    114.0   \n\n   TenYearCHD  \n0           1  \n1           1  \n2           0  \n3           0  \n4           1  ",
      "text/html": "<div>\n<style scoped>\n    .dataframe tbody tr th:only-of-type {\n        vertical-align: middle;\n    }\n\n    .dataframe tbody tr th {\n        vertical-align: top;\n    }\n\n    .dataframe thead th {\n        text-align: right;\n    }\n</style>\n<table border=\"1\" class=\"dataframe\">\n  <thead>\n    <tr style=\"text-align: right;\">\n      <th></th>\n      <th>male</th>\n      <th>age</th>\n      <th>currentSmoker</th>\n      <th>cigsPerDay</th>\n      <th>BPMeds</th>\n      <th>prevalentStroke</th>\n      <th>prevalentHyp</th>\n      <th>diabetes</th>\n      <th>totChol</th>\n      <th>sysBP</th>\n      <th>diaBP</th>\n      <th>BMI</th>\n      <th>heartRate</th>\n      <th>glucose</th>\n      <th>TenYearCHD</th>\n    </tr>\n  </thead>\n  <tbody>\n    <tr>\n      <th>0</th>\n      <td>0</td>\n      <td>52</td>\n      <td>0</td>\n      <td>0.0</td>\n      <td>0.0</td>\n      <td>0</td>\n      <td>0</td>\n      <td>0</td>\n      <td>235.0</td>\n      <td>129.5</td>\n      <td>83.0</td>\n      <td>28.86</td>\n      <td>65.0</td>\n      <td>79.0</td>\n      <td>1</td>\n    </tr>\n    <tr>\n      <th>1</th>\n      <td>0</td>\n      <td>57</td>\n      <td>0</td>\n      <td>0.0</td>\n      <td>1.0</td>\n      <td>0</td>\n      <td>1</td>\n      <td>0</td>\n      <td>432.0</td>\n      <td>153.0</td>\n      <td>85.0</td>\n      <td>26.13</td>\n      <td>98.0</td>\n      <td>75.0</td>\n      <td>1</td>\n    </tr>\n    <tr>\n      <th>2</th>\n      <td>0</td>\n      <td>36</td>\n      <td>1</td>\n      <td>20.0</td>\n      <td>0.0</td>\n      <td>0</td>\n      <td>0</td>\n      <td>0</td>\n      <td>177.0</td>\n      <td>115.0</td>\n      <td>63.5</td>\n      <td>22.54</td>\n      <td>71.0</td>\n      <td>73.0</td>\n      <td>0</td>\n    </tr>\n    <tr>\n      <th>3</th>\n      <td>0</td>\n      <td>40</td>\n      <td>1</td>\n      <td>15.0</td>\n      <td>0.0</td>\n      <td>0</td>\n      <td>0</td>\n      <td>0</td>\n      <td>220.0</td>\n      <td>131.5</td>\n      <td>82.5</td>\n      <td>24.35</td>\n      <td>80.0</td>\n      <td>78.0</td>\n      <td>0</td>\n    </tr>\n    <tr>\n      <th>4</th>\n      <td>1</td>\n      <td>49</td>\n      <td>1</td>\n      <td>50.0</td>\n      <td>0.0</td>\n      <td>0</td>\n      <td>0</td>\n      <td>0</td>\n      <td>252.0</td>\n      <td>156.0</td>\n      <td>91.0</td>\n      <td>25.35</td>\n      <td>70.0</td>\n      <td>114.0</td>\n      <td>1</td>\n    </tr>\n  </tbody>\n</table>\n</div>"
     },
     "metadata": {}
    }
   ],
   "execution_count": 5
  },
  {
   "cell_type": "markdown",
   "source": "### Train - Test Split",
   "metadata": {
    "cell_id": "ab62a93100484c9080d6be078612c73e",
    "tags": [],
    "deepnote_cell_type": "markdown",
    "deepnote_cell_height": 62
   }
  },
  {
   "cell_type": "code",
   "source": "X_train, X_test, Y_train, Y_test = train_test_split(df_heart_disease_sample.drop(columns='TenYearCHD'), df_heart_disease_sample['TenYearCHD'] , test_size=0.2, random_state=555555555)",
   "metadata": {
    "cell_id": "827c77e5952448c5bcefc987c453917e",
    "tags": [],
    "deepnote_to_be_reexecuted": false,
    "source_hash": "5fa96292",
    "execution_start": 1650486591683,
    "execution_millis": 34,
    "deepnote_cell_type": "code",
    "deepnote_cell_height": 81
   },
   "outputs": [],
   "execution_count": 6
  },
  {
   "cell_type": "markdown",
   "source": "### Model Fitting",
   "metadata": {
    "cell_id": "2ebdaf00679446c8af2fa8345d14b29b",
    "tags": [],
    "deepnote_cell_type": "markdown",
    "deepnote_cell_height": 62
   }
  },
  {
   "cell_type": "code",
   "source": "#Defining model\nsvc = SVC()\n\n#Fitting model\nsvc_res = svc.fit(X_train, Y_train)",
   "metadata": {
    "cell_id": "a5cff470f0ca4dbc814b23c7463e0566",
    "tags": [],
    "deepnote_to_be_reexecuted": false,
    "source_hash": "9b3409e4",
    "execution_start": 1650486591731,
    "execution_millis": 220,
    "deepnote_cell_type": "code",
    "deepnote_cell_height": 153
   },
   "outputs": [],
   "execution_count": 7
  },
  {
   "cell_type": "markdown",
   "source": "### Model validation metrics",
   "metadata": {
    "cell_id": "f8d15251a5a84b4790e3bd1deca78cc5",
    "tags": [],
    "deepnote_cell_type": "markdown",
    "deepnote_cell_height": 62
   }
  },
  {
   "cell_type": "code",
   "source": "scores = cross_val_score(svc, X_train, Y_train, cv=10, scoring='accuracy')\nprint(scores)\nprint(\"Accuracy: \",scores.mean())\n\nscores = cross_val_score(svc,  X_train, Y_train, cv=10, scoring='recall')\nprint(\"Recall: \",scores.mean())\n\nscores = cross_val_score(svc,  X_train, Y_train, cv=10, scoring='roc_auc')\nprint(\"Roc_auc: \",scores.mean())",
   "metadata": {
    "cell_id": "3b77fe897ebc449597a922108ea5464d",
    "tags": [],
    "deepnote_to_be_reexecuted": false,
    "source_hash": "a2a9f0b7",
    "execution_start": 1650486591960,
    "execution_millis": 5203,
    "deepnote_cell_type": "code",
    "deepnote_cell_height": 337
   },
   "outputs": [
    {
     "name": "stdout",
     "text": "[0.62765957 0.65957447 0.56382979 0.67021277 0.61702128 0.61702128\n 0.71276596 0.64516129 0.60215054 0.68817204]\nAccuracy:  0.6403568977350721\nRecall:  0.5357712765957447\nRoc_auc:  0.7055967927647764\n",
     "output_type": "stream"
    }
   ],
   "execution_count": 8
  },
  {
   "cell_type": "markdown",
   "source": "#### Model Adjustments",
   "metadata": {
    "cell_id": "d5c74edb418e45209bf9818fd3f5f5d9",
    "tags": [],
    "deepnote_cell_type": "markdown",
    "deepnote_cell_height": 54
   }
  },
  {
   "cell_type": "code",
   "source": "param_grid = {'kernel': ['linear', 'poly', 'rbf', 'sigmoid']}\n\nsvc = SVC()\n\ngrid = GridSearchCV(svc, param_grid, scoring='recall', cv=20)\n\ngrid.fit(X_train, Y_train)\n\n# Best estimators\nprint(\"Best SVC parameters: \",grid.best_estimator_)\nprint('Best SVC recall score: %.3f' % np.abs(grid.best_score_))",
   "metadata": {
    "cell_id": "52e5f4e27a04461dbe248453a6ec436e",
    "tags": [],
    "deepnote_to_be_reexecuted": false,
    "source_hash": "50b5512a",
    "execution_start": 1650486597157,
    "execution_millis": 245669,
    "deepnote_cell_type": "code",
    "deepnote_cell_height": 312.375
   },
   "outputs": [
    {
     "name": "stdout",
     "text": "Best SVC parameters:  SVC(kernel='linear')\nBest SVC recall score: 0.681\n",
     "output_type": "stream"
    }
   ],
   "execution_count": 9
  },
  {
   "cell_type": "markdown",
   "source": "#### Model Testing",
   "metadata": {
    "cell_id": "7d2db963a5fa479dbb0102345bb66d2f",
    "tags": [],
    "deepnote_cell_type": "markdown",
    "deepnote_cell_height": 54
   }
  },
  {
   "cell_type": "code",
   "source": "svc = SVC(kernel='linear')\nsvc_res = svc.fit(X_train, Y_train)\n\nRocCurveDisplay.from_estimator(svc_res, X_test, Y_test)\nplt.plot([0, 1], [0, 1], color=\"red\", linestyle=\"--\")",
   "metadata": {
    "cell_id": "03ba636437794857bbcdf6e891d8ecf8",
    "tags": [],
    "deepnote_to_be_reexecuted": false,
    "source_hash": "43c7bcd0",
    "execution_start": 1650486842824,
    "execution_millis": 20000,
    "deepnote_cell_type": "code",
    "deepnote_cell_height": 485,
    "deepnote_output_heights": [
     21.1875,
     264
    ]
   },
   "outputs": [
    {
     "output_type": "execute_result",
     "execution_count": 10,
     "data": {
      "text/plain": "[<matplotlib.lines.Line2D at 0x7fa9befb7190>]"
     },
     "metadata": {}
    },
    {
     "data": {
      "text/plain": "<Figure size 432x288 with 1 Axes>",
      "image/png": "[encoded data removed]"
     },
     "metadata": {
      "needs_background": "light",
      "image/png": {
       "width": 386,
       "height": 262
      }
     },
     "output_type": "display_data"
    }
   ],
   "execution_count": 10
  },
  {
   "cell_type": "markdown",
   "source": "### Model Comparision",
   "metadata": {
    "cell_id": "06714d0f0c154a3f82ddc851c0e6e17b",
    "tags": [],
    "deepnote_cell_type": "markdown",
    "deepnote_cell_height": 62
   }
  },
  {
   "cell_type": "code",
   "source": "lda = LinearDiscriminantAnalysis(shrinkage=0.99, solver='lsqr')\nlda_res = lda.fit(X_train,Y_train)\n\ndtc = DecisionTreeClassifier(criterion='entropy', max_depth=4)\ndtc_res = dtc.fit(X_train, Y_train)\n\nrfc = RandomForestClassifier(max_depth=110, max_features=5, min_samples_leaf=4,min_samples_split=10, n_estimators=10)\nrfc_res = rfc.fit(X_train, Y_train)\n",
   "metadata": {
    "cell_id": "9bc3d4855d3c49d790a3030e4bc49429",
    "tags": [],
    "deepnote_to_be_reexecuted": false,
    "source_hash": "5f6911d9",
    "execution_start": 1650486862422,
    "execution_millis": 201,
    "owner_user_id": "6767d251-01ae-45b2-85bc-1cbd54bf2a57",
    "deepnote_cell_type": "code",
    "deepnote_cell_height": 225
   },
   "outputs": [],
   "execution_count": 11
  },
  {
   "cell_type": "code",
   "source": "fig, ax = plt.subplots()\nRocCurveDisplay.from_estimator(svc_res, X_test, Y_test,ax=ax)\nRocCurveDisplay.from_estimator(dtc_res, X_test, Y_test, ax = ax)\nRocCurveDisplay.from_estimator(lda_res, X_test, Y_test,ax=ax)\nRocCurveDisplay.from_estimator(rfc_res, X_test, Y_test, ax = ax)\nplt.plot([0, 1], [0, 1], color=\"red\", linestyle=\"--\")",
   "metadata": {
    "cell_id": "b9dfffdcc8c0459b98fd4bd4c868c56f",
    "tags": [],
    "deepnote_to_be_reexecuted": false,
    "source_hash": "6e01da2c",
    "execution_start": 1650486862623,
    "execution_millis": 753,
    "deepnote_cell_type": "code",
    "deepnote_cell_height": 503.1875,
    "deepnote_output_heights": [
     21.1875,
     264
    ]
   },
   "outputs": [
    {
     "output_type": "execute_result",
     "execution_count": 12,
     "data": {
      "text/plain": "[<matplotlib.lines.Line2D at 0x7fa9beee01d0>]"
     },
     "metadata": {}
    },
    {
     "data": {
      "text/plain": "<Figure size 432x288 with 1 Axes>",
      "image/png": "[encoded data removed]"
     },
     "metadata": {
      "needs_background": "light",
      "image/png": {
       "width": 386,
       "height": 262
      }
     },
     "output_type": "display_data"
    }
   ],
   "execution_count": 12
  },
  {
   "cell_type": "markdown",
   "source": "<a style='text-decoration:none;line-height:16px;display:flex;color:#5B5B62;padding:10px;justify-content:end;' href='https://deepnote.com?utm_source=created-in-deepnote-cell&projectId=96262903-a28f-4719-a328-dc59e3cfa77f' target=\"_blank\">\n<img alt='Created in deepnote.com' style='display:inline;max-height:16px;margin:0px;margin-right:7.5px;' src='data:image/svg+xml;base64,PD94bWwgdmVyc2lvbj0iMS4wIiBlbmNvZGluZz0iVVRGLTgiPz4KPHN2ZyB3aWR0aD0iODBweCIgaGVpZ2h0PSI4MHB4IiB2aWV3Qm94PSIwIDAgODAgODAiIHZlcnNpb249IjEuMSIgeG1sbnM9Imh0dHA6Ly93d3cudzMub3JnLzIwMDAvc3ZnIiB4bWxuczp4bGluaz0iaHR0cDovL3d3dy53My5vcmcvMTk5OS94bGluayI+CiAgICA8IS0tIEdlbmVyYXRvcjogU2tldGNoIDU0LjEgKDc2NDkwKSAtIGh0dHBzOi8vc2tldGNoYXBwLmNvbSAtLT4KICAgIDx0aXRsZT5Hcm91cCAzPC90aXRsZT4KICAgIDxkZXNjPkNyZWF0ZWQgd2l0aCBTa2V0Y2guPC9kZXNjPgogICAgPGcgaWQ9IkxhbmRpbmciIHN0cm9rZT0ibm9uZSIgc3Ryb2tlLXdpZHRoPSIxIiBmaWxsPSJub25lIiBmaWxsLXJ1bGU9ImV2ZW5vZGQiPgogICAgICAgIDxnIGlkPSJBcnRib2FyZCIgdHJhbnNmb3JtPSJ0cmFuc2xhdGUoLTEyMzUuMDAwMDAwLCAtNzkuMDAwMDAwKSI+CiAgICAgICAgICAgIDxnIGlkPSJHcm91cC0zIiB0cmFuc2Zvcm09InRyYW5zbGF0ZSgxMjM1LjAwMDAwMCwgNzkuMDAwMDAwKSI+CiAgICAgICAgICAgICAgICA8cG9seWdvbiBpZD0iUGF0aC0yMCIgZmlsbD0iIzAyNjVCNCIgcG9pbnRzPSIyLjM3NjIzNzYyIDgwIDM4LjA0NzY2NjcgODAgNTcuODIxNzgyMiA3My44MDU3NTkyIDU3LjgyMTc4MjIgMzIuNzU5MjczOSAzOS4xNDAyMjc4IDMxLjY4MzE2ODMiPjwvcG9seWdvbj4KICAgICAgICAgICAgICAgIDxwYXRoIGQ9Ik0zNS4wMDc3MTgsODAgQzQyLjkwNjIwMDcsNzYuNDU0OTM1OCA0Ny41NjQ5MTY3LDcxLjU0MjI2NzEgNDguOTgzODY2LDY1LjI2MTk5MzkgQzUxLjExMjI4OTksNTUuODQxNTg0MiA0MS42NzcxNzk1LDQ5LjIxMjIyODQgMjUuNjIzOTg0Niw0OS4yMTIyMjg0IEMyNS40ODQ5Mjg5LDQ5LjEyNjg0NDggMjkuODI2MTI5Niw0My4yODM4MjQ4IDM4LjY0NzU4NjksMzEuNjgzMTY4MyBMNzIuODcxMjg3MSwzMi41NTQ0MjUgTDY1LjI4MDk3Myw2Ny42NzYzNDIxIEw1MS4xMTIyODk5LDc3LjM3NjE0NCBMMzUuMDA3NzE4LDgwIFoiIGlkPSJQYXRoLTIyIiBmaWxsPSIjMDAyODY4Ij48L3BhdGg+CiAgICAgICAgICAgICAgICA8cGF0aCBkPSJNMCwzNy43MzA0NDA1IEwyNy4xMTQ1MzcsMC4yNTcxMTE0MzYgQzYyLjM3MTUxMjMsLTEuOTkwNzE3MDEgODAsMTAuNTAwMzkyNyA4MCwzNy43MzA0NDA1IEM4MCw2NC45NjA0ODgyIDY0Ljc3NjUwMzgsNzkuMDUwMzQxNCAzNC4zMjk1MTEzLDgwIEM0Ny4wNTUzNDg5LDc3LjU2NzA4MDggNTMuNDE4MjY3Nyw3MC4zMTM2MTAzIDUzLjQxODI2NzcsNTguMjM5NTg4NSBDNTMuNDE4MjY3Nyw0MC4xMjg1NTU3IDM2LjMwMzk1NDQsMzcuNzMwNDQwNSAyNS4yMjc0MTcsMzcuNzMwNDQwNSBDMTcuODQzMDU4NiwzNy43MzA0NDA1IDkuNDMzOTE5NjYsMzcuNzMwNDQwNSAwLDM3LjczMDQ0MDUgWiIgaWQ9IlBhdGgtMTkiIGZpbGw9IiMzNzkzRUYiPjwvcGF0aD4KICAgICAgICAgICAgPC9nPgogICAgICAgIDwvZz4KICAgIDwvZz4KPC9zdmc+' > </img>\nCreated in <span style='font-weight:600;margin-left:4px;'>Deepnote</span></a>",
   "metadata": {
    "tags": [],
    "created_in_deepnote_cell": true,
    "deepnote_cell_type": "markdown"
   }
  }
 ],
 "nbformat": 4,
 "nbformat_minor": 2,
 "metadata": {
  "orig_nbformat": 2,
  "deepnote": {},
  "deepnote_notebook_id": "926f5280-f1ad-47a0-b5be-c1c83e7a3cc0",
  "deepnote_execution_queue": []
 }
}